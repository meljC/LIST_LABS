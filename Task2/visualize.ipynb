{
 "cells": [
  {
   "cell_type": "code",
   "execution_count": 2,
   "metadata": {},
   "outputs": [],
   "source": [
    "import geopandas as gpd\n",
    "import matplotlib.pyplot as plt"
   ]
  },
  {
   "cell_type": "code",
   "execution_count": 3,
   "metadata": {},
   "outputs": [
    {
     "data": {
      "text/html": [
       "<div>\n",
       "<style scoped>\n",
       "    .dataframe tbody tr th:only-of-type {\n",
       "        vertical-align: middle;\n",
       "    }\n",
       "\n",
       "    .dataframe tbody tr th {\n",
       "        vertical-align: top;\n",
       "    }\n",
       "\n",
       "    .dataframe thead th {\n",
       "        text-align: right;\n",
       "    }\n",
       "</style>\n",
       "<table border=\"1\" class=\"dataframe\">\n",
       "  <thead>\n",
       "    <tr style=\"text-align: right;\">\n",
       "      <th></th>\n",
       "      <th>naziv_objekta</th>\n",
       "      <th>ps_br</th>\n",
       "      <th>e_br</th>\n",
       "      <th>tip_objekta</th>\n",
       "      <th>lucka_kapetanija</th>\n",
       "      <th>fotografija</th>\n",
       "      <th>id_ais</th>\n",
       "      <th>simbol_oznaka</th>\n",
       "      <th>pk</th>\n",
       "      <th>geometry</th>\n",
       "    </tr>\n",
       "  </thead>\n",
       "  <tbody>\n",
       "    <tr>\n",
       "      <th>0</th>\n",
       "      <td>Otočić Mrtovnjak</td>\n",
       "      <td>390</td>\n",
       "      <td>E3115</td>\n",
       "      <td>11.0</td>\n",
       "      <td>Zadar</td>\n",
       "      <td>fotografije/773.jpg</td>\n",
       "      <td>None</td>\n",
       "      <td>/media/simboli/2.png</td>\n",
       "      <td>773</td>\n",
       "      <td>POINT (15.17517 44.01113)</td>\n",
       "    </tr>\n",
       "    <tr>\n",
       "      <th>1</th>\n",
       "      <td>kvar1</td>\n",
       "      <td>None</td>\n",
       "      <td>None</td>\n",
       "      <td>NaN</td>\n",
       "      <td>None</td>\n",
       "      <td></td>\n",
       "      <td>None</td>\n",
       "      <td>None</td>\n",
       "      <td>1665</td>\n",
       "      <td>POINT (13.48333 45.46667)</td>\n",
       "    </tr>\n",
       "    <tr>\n",
       "      <th>2</th>\n",
       "      <td>test objekt vanjski operater 2</td>\n",
       "      <td>None</td>\n",
       "      <td>None</td>\n",
       "      <td>NaN</td>\n",
       "      <td>None</td>\n",
       "      <td></td>\n",
       "      <td>None</td>\n",
       "      <td>None</td>\n",
       "      <td>1663</td>\n",
       "      <td>POINT (13.50132 45.501)</td>\n",
       "    </tr>\n",
       "    <tr>\n",
       "      <th>3</th>\n",
       "      <td>Svjetleća oznaka Premanturski školjić, E</td>\n",
       "      <td>None</td>\n",
       "      <td>None</td>\n",
       "      <td>12.0</td>\n",
       "      <td>Pula</td>\n",
       "      <td>fotografije/Svj._oz._Premanturski_Školjić.jpg</td>\n",
       "      <td>None</td>\n",
       "      <td>/media/simboli/19.png</td>\n",
       "      <td>1630</td>\n",
       "      <td>POINT (13.90998 44.81897)</td>\n",
       "    </tr>\n",
       "    <tr>\n",
       "      <th>4</th>\n",
       "      <td>Svjetionik 4321</td>\n",
       "      <td>None</td>\n",
       "      <td>None</td>\n",
       "      <td>22.0</td>\n",
       "      <td>None</td>\n",
       "      <td></td>\n",
       "      <td>None</td>\n",
       "      <td>/media/simboli/68.png</td>\n",
       "      <td>1669</td>\n",
       "      <td>POINT (13.50132 45.501)</td>\n",
       "    </tr>\n",
       "  </tbody>\n",
       "</table>\n",
       "</div>"
      ],
      "text/plain": [
       "                              naziv_objekta ps_br   e_br  tip_objekta  \\\n",
       "0                          Otočić Mrtovnjak   390  E3115         11.0   \n",
       "1                                     kvar1  None   None          NaN   \n",
       "2            test objekt vanjski operater 2  None   None          NaN   \n",
       "3  Svjetleća oznaka Premanturski školjić, E  None   None         12.0   \n",
       "4                           Svjetionik 4321  None   None         22.0   \n",
       "\n",
       "  lucka_kapetanija                                    fotografija id_ais  \\\n",
       "0            Zadar                            fotografije/773.jpg   None   \n",
       "1             None                                                  None   \n",
       "2             None                                                  None   \n",
       "3             Pula  fotografije/Svj._oz._Premanturski_Školjić.jpg   None   \n",
       "4             None                                                  None   \n",
       "\n",
       "           simbol_oznaka    pk                   geometry  \n",
       "0   /media/simboli/2.png   773  POINT (15.17517 44.01113)  \n",
       "1                   None  1665  POINT (13.48333 45.46667)  \n",
       "2                   None  1663    POINT (13.50132 45.501)  \n",
       "3  /media/simboli/19.png  1630  POINT (13.90998 44.81897)  \n",
       "4  /media/simboli/68.png  1669    POINT (13.50132 45.501)  "
      ]
     },
     "execution_count": 3,
     "metadata": {},
     "output_type": "execute_result"
    }
   ],
   "source": [
    "# Load the GeoJSON file\n",
    "file_path = \"../data/plovput_objekti.geojson\"\n",
    "gdf = gpd.read_file(file_path)\n",
    "\n",
    "# Display the first 5 rows to check the content\n",
    "gdf.head()"
   ]
  },
  {
   "cell_type": "code",
   "execution_count": 4,
   "metadata": {},
   "outputs": [
    {
     "name": "stdout",
     "output_type": "stream",
     "text": [
      "<class 'geopandas.geodataframe.GeoDataFrame'>\n",
      "RangeIndex: 1220 entries, 0 to 1219\n",
      "Data columns (total 10 columns):\n",
      " #   Column            Non-Null Count  Dtype   \n",
      "---  ------            --------------  -----   \n",
      " 0   naziv_objekta     1220 non-null   object  \n",
      " 1   ps_br             1009 non-null   object  \n",
      " 2   e_br              772 non-null    object  \n",
      " 3   tip_objekta       1218 non-null   float64 \n",
      " 4   lucka_kapetanija  1215 non-null   object  \n",
      " 5   fotografija       1220 non-null   object  \n",
      " 6   id_ais            67 non-null     object  \n",
      " 7   simbol_oznaka     1218 non-null   object  \n",
      " 8   pk                1220 non-null   object  \n",
      " 9   geometry          1220 non-null   geometry\n",
      "dtypes: float64(1), geometry(1), object(8)\n",
      "memory usage: 95.4+ KB\n"
     ]
    }
   ],
   "source": [
    "gdf.info()"
   ]
  },
  {
   "cell_type": "code",
   "execution_count": 5,
   "metadata": {},
   "outputs": [
    {
     "data": {
      "image/png": "[encoded data removed]",
      "text/plain": [
       "<Figure size 640x480 with 1 Axes>"
      ]
     },
     "metadata": {},
     "output_type": "display_data"
    }
   ],
   "source": [
    "# Plot the geometries to visualize the spatial data\n",
    "gdf.plot()\n",
    "plt.title(\"Visualization of GeoJSON Points\")\n",
    "plt.show()"
   ]
  },
  {
   "cell_type": "markdown",
   "metadata": {},
   "source": [
    "# Filtering data"
   ]
  },
  {
   "cell_type": "code",
   "execution_count": 6,
   "metadata": {},
   "outputs": [
    {
     "name": "stdout",
     "output_type": "stream",
     "text": [
      "Total number of records: 1220\n"
     ]
    }
   ],
   "source": [
    "# Count the total number of records\n",
    "total_records = len(gdf)\n",
    "print(f\"Total number of records: {total_records}\")"
   ]
  },
  {
   "cell_type": "code",
   "execution_count": 7,
   "metadata": {},
   "outputs": [
    {
     "name": "stdout",
     "output_type": "stream",
     "text": [
      "Number of records with 'tip_objekta' = 16: 343\n"
     ]
    }
   ],
   "source": [
    "\n",
    "# Filter records where 'tip_objekta' is 16\n",
    "filtered_gdf = gdf[gdf['tip_objekta'] == 16]\n",
    "filtered_count = len(filtered_gdf)\n",
    "print(f\"Number of records with 'tip_objekta' = 16: {filtered_count}\")"
   ]
  },
  {
   "cell_type": "code",
   "execution_count": 8,
   "metadata": {},
   "outputs": [
    {
     "data": {
      "text/plain": [
       "'filtered_objekti_tip_16.geojson'"
      ]
     },
     "execution_count": 8,
     "metadata": {},
     "output_type": "execute_result"
    }
   ],
   "source": [
    "\n",
    "# Save the filtered records to a new GeoJSON file\n",
    "filtered_geojson_path = \"filtered_objekti_tip_16.geojson\"\n",
    "filtered_gdf.to_file(filtered_geojson_path, driver=\"GeoJSON\")\n",
    "\n",
    "filtered_geojson_path"
   ]
  }
 ],
 "metadata": {
  "kernelspec": {
   "display_name": "base",
   "language": "python",
   "name": "python3"
  },
  "language_info": {
   "codemirror_mode": {
    "name": "ipython",
    "version": 3
   },
   "file_extension": ".py",
   "mimetype": "text/x-python",
   "name": "python",
   "nbconvert_exporter": "python",
   "pygments_lexer": "ipython3",
   "version": "3.10.11"
  }
 },
 "nbformat": 4,
 "nbformat_minor": 2
}
